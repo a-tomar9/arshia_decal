{
 "cells": [
  {
   "cell_type": "code",
   "execution_count": null,
   "id": "f9bf19df-0cd9-4451-b4c8-75dcf8d8c5aa",
   "metadata": {},
   "outputs": [],
   "source": [
    "import numpy as np\n",
    "import matplotlib.pyplot as plt\n",
    "\n",
    "# Create x and y values for a grid\n",
    "x = np.linspace(-1, 1, 400)\n",
    "y = np.linspace(-1, 1, 400)\n",
    "X, Y = np.meshgrid(x, y)\n",
    "\n",
    "# Define each function\n",
    "Z1 = (np.sin(X * Y) * np.sin(1 - (9*X)**2 + (9*Y)**2)) / 9\n",
    "Z2 = np.sqrt(np.clip(0.4**2 - (0.6 - np.sqrt(X**2 + Y**2))**2, 0, None))  # clip to avoid complex\n",
    "Z3 = np.tanh(5 * X) / (Y + 0.1)\n",
    "Z4 = np.exp(-5 * ((X - 0.2)**2 + (Y + 0.3)**2))\n",
    "\n",
    "# Create 2x2 subplot\n",
    "fig, axs = plt.subplots(2, 2, figsize=(12, 10))\n",
    "cmap = 'viridis'\n",
    "\n",
    "# Plot each one\n",
    "plots = [\n",
    "    (Z1, \"Plot 1: sin(xy) * sin(1 - (9x)^2 + (9y)^2) / 9\"),\n",
    "    (Z2, \"Plot 2: Circular Shell\"),\n",
    "    (Z3, \"Plot 3: tanh(5x) / (y + 0.1)\"),\n",
    "    (Z4, \"Plot 4: Gaussian Bump\"),\n",
    "]\n",
    "\n",
    "# Loop to fill subplots\n",
    "for ax, (Z, title) in zip(axs.ravel(), plots):\n",
    "    p = ax.pcolormesh(X, Y, Z, shading='auto', cmap=cmap)\n",
    "    fig.colorbar(p, ax=ax)\n",
    "    ax.set_title(title)\n",
    "    ax.set_xlabel('x')\n",
    "    ax.set_ylabel('y')\n",
    "\n",
    "plt.tight_layout()\n",
    "plt.show()\n"
   ]
  }
 ],
 "metadata": {
  "kernelspec": {
   "display_name": "Python 3 (ipykernel)",
   "language": "python",
   "name": "pykernel"
  },
  "language_info": {
   "codemirror_mode": {
    "name": "ipython",
    "version": 3
   },
   "file_extension": ".py",
   "mimetype": "text/x-python",
   "name": "python",
   "nbconvert_exporter": "python",
   "pygments_lexer": "ipython3",
   "version": "3.12.7"
  }
 },
 "nbformat": 4,
 "nbformat_minor": 5
}

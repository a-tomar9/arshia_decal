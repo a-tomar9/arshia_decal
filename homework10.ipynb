{
 "cells": [
  {
   "cell_type": "code",
   "execution_count": 3,
   "metadata": {
    "cellView": "form",
    "executionInfo": {
     "elapsed": 229,
     "status": "ok",
     "timestamp": 1725564371208,
     "user": {
      "displayName": "Brianna Lynn Peck",
      "userId": "00253851097760241708"
     },
     "user_tz": 420
    },
    "id": "AkECG4tia-q3"
   },
   "outputs": [],
   "source": [
    "# @title Import Necessary Packages\n",
    "import numpy as np\n",
    "import matplotlib.pyplot as plt\n",
    "%matplotlib inline"
   ]
  },
  {
   "cell_type": "code",
   "execution_count": null,
   "metadata": {},
   "outputs": [],
   "source": []
  },
  {
   "cell_type": "markdown",
   "metadata": {
    "id": "TrKnLxnAZ9sD"
   },
   "source": [
    "# HW 9 - Advanced Plotting\n",
    "### Due November 11, 2024 at 11:59pm\n",
    "Welcome to your last problem set of the semester! (\\*confetti\\*) It's time for the hardest but also coolest homework of the course. Have fun!"
   ]
  },
  {
   "cell_type": "markdown",
   "metadata": {
    "id": "oGCNsfpJkn28"
   },
   "source": [
    "## 1) Subplot Plotting Practice"
   ]
  },
  {
   "cell_type": "code",
   "execution_count": 4,
   "metadata": {
    "executionInfo": {
     "elapsed": 222,
     "status": "ok",
     "timestamp": 1725564372776,
     "user": {
      "displayName": "Brianna Lynn Peck",
      "userId": "00253851097760241708"
     },
     "user_tz": 420
    },
    "id": "90Iwj0jbalNy"
   },
   "outputs": [],
   "source": [
    "# @markdown Plot these functions on a 2 X 2 grid of subplots (4 plots total). Use fun colormaps!\n",
    "\n",
    "\n",
    "# @markdown Plot 1 (Top Left):\n",
    "\n",
    "# @markdown $$ f(x,y) = \\frac{sin(xy) x* sin(1-(9x)^2 + (9y)^2)}{9} $$\n",
    "# @markdown Plot 2 (Top Right):\n",
    "# @markdown $$ f(x,y) = (0.4^2 -(0.6-(x^2+y^2)^{\\!1/2})^2)^{\\!1/2} $$\n",
    "# @markdown Plot 3 (Bottom Left):\n",
    "# @markdown $$ f(x, y) = \\frac{\\tanh(5x)}{y + 0.1}$$\n",
    "# @markdown Plot 4 (Bottom Right)\"\n",
    "# @markdown $$ f(x, y) = \\exp(-5((x - 0.2)^2 + (y + 0.3)^2))$$\n",
    "\n",
    "# @markdown Each subplot should have it's own title, and x and y labels for each plot. Each of these is an interesting shape or structure. Create a markdown cell below your plotting cell describing what you see in each plot.\n",
    "\n",
    "# @markdown Challenge: Use the same colormap for the whole figure (all 4 subplots).\n",
    "\n",
    "# @markdown *Hint: Some of the functions may require a different domain (for the x values) for the function to be defined. Make sure you take this into account.*\n",
    "\n",
    "# Your code here"
   ]
  },
  {
   "cell_type": "markdown",
   "metadata": {
    "id": "HmukEsUEkwL9"
   },
   "source": [
    "## 2) Random Plotting Practice"
   ]
  },
  {
   "cell_type": "code",
   "execution_count": 5,
   "metadata": {
    "executionInfo": {
     "elapsed": 222,
     "status": "ok",
     "timestamp": 1725564373745,
     "user": {
      "displayName": "Brianna Lynn Peck",
      "userId": "00253851097760241708"
     },
     "user_tz": 420
    },
    "id": "n9en7sMAbaQO"
   },
   "outputs": [],
   "source": [
    "# @markdown This problem focuses on generating and visualizing random data in two different types of plots. First, you will create three lists of random numbers, each containing 50 elements, with values ranging from 0 to 200. Then, you'll create two instead of vertical subplots:\n",
    "\n",
    "# @markdown - The left plot should display the first list of random data as a blue line with a line width of 5, and the second list in green with a dotted line style.\n",
    "\n",
    "# @markdown - The right plot should be a scatter plot of the third list, using purple triangles as markers. The x-coordinate should correspond to the position of each element in the list.\n",
    "\n",
    "# @markdown Make sure to add appropriate titles and legends to each subplot.\n",
    "\n",
    "# Your code here"
   ]
  },
  {
   "cell_type": "markdown",
   "metadata": {
    "id": "bSFmPlWWk00T"
   },
   "source": [
    "## 3) Monte Carlo\n",
    "\n",
    "Did you know that you can estimate the value of $\\pi$ using random numbers? Crazy statement but really cool.\n",
    "\n",
    "First, you need to generate a large number of random points inside a 1x1 square with one corner at the origin (essentially you are making a unit circle).\n",
    "\n",
    "Second, check how many of these points fall within a distance of 1 from the origin (in other words, a radius = 1). These points will lie inside a quarter circle, centered at the origin.\n",
    "\n",
    "By using the ratio of points inside the quarter circle to the total number of points, we can estimate $\\pi$! based on the relationship between the area of a quarter circle and the square.\n",
    "\n",
    "Your task:\n",
    "- Calculate an estimate of $\\pi$ using this method of $N = 10, 10^3, 10^5, 10^6$. Print these results for each value of $N$. What do you notice as $N$ gets bigger?\n",
    "- For $N=10^4$, plot the points within the quarter circle in one color and the points outside in another color. Make sure the entire plots is a square. Display the estimate value of $\\pi$ on the plot. Don't forget to include a title and legend.\n"
   ]
  },
  {
   "cell_type": "code",
   "execution_count": 6,
   "metadata": {
    "executionInfo": {
     "elapsed": 216,
     "status": "ok",
     "timestamp": 1725564375281,
     "user": {
      "displayName": "Brianna Lynn Peck",
      "userId": "00253851097760241708"
     },
     "user_tz": 420
    },
    "id": "gaRAmY2GdRNv"
   },
   "outputs": [],
   "source": [
    "# Your code here"
   ]
  },
  {
   "cell_type": "markdown",
   "metadata": {
    "id": "6Zpn32VJiA5G"
   },
   "source": [
    "# Point-Spread Function\n",
    "\n",
    "*Based on Astro 120 curriculum.*\n",
    "\n",
    "When telescopes look at very distant sources (like stars or galaxies), the light they capture should look like a point source (focused point of light, think of a dot) on the detector.\n",
    "\n",
    "However, due to the diffraction-limit of a telescope, atmospheric turbulence and imperfections in an optical system, the star does not appear like a point. Rather, it becomes a blurry spot on the detector which we model with a **point-spread function** (PSF).\n",
    "\n",
    "To better visualize what the above paragraph is talking about, you will simulate the transition from a point source to a point-spread function using a 2D Gaussian function.\n",
    "\n",
    "We can represent a point source as a single bright pixel in an image.\n",
    "\n",
    "There is an example point-source vs. point-spread function plot in the homework 9 folder.\n"
   ]
  },
  {
   "cell_type": "code",
   "execution_count": 7,
   "metadata": {
    "cellView": "form",
    "executionInfo": {
     "elapsed": 209,
     "status": "ok",
     "timestamp": 1725564386514,
     "user": {
      "displayName": "Brianna Lynn Peck",
      "userId": "00253851097760241708"
     },
     "user_tz": 420
    },
    "id": "rMDEXnTYiR_V"
   },
   "outputs": [],
   "source": [
    "# @title Simulate a Point Source:\n",
    "# @markdown Start by creating a 2D image (plot) of size 50×50 pixels. Represent a point source by setting the very center pixel (25,25) to have a brightness of 1.0, while all other pixels should have a value of 0.0.\n",
    "\n",
    "# Your code here"
   ]
  },
  {
   "cell_type": "code",
   "execution_count": 8,
   "metadata": {
    "cellView": "form",
    "executionInfo": {
     "elapsed": 189,
     "status": "ok",
     "timestamp": 1725564389477,
     "user": {
      "displayName": "Brianna Lynn Peck",
      "userId": "00253851097760241708"
     },
     "user_tz": 420
    },
    "id": "WonZCuEjiR5_"
   },
   "outputs": [],
   "source": [
    "# @title Simulate the Point Spread:\n",
    "# @markdown Now, model a PSF by plotting a 2D Gaussian function to simulate the spread of light from the point source. The Gaussian function is defined as:\n",
    "\n",
    "# @markdown $$ \\text{PSF}(x, y) = A \\cdot \\exp\\left(-\\frac{(x - x_0)^2}{2\\sigma^2} - \\frac{(y - y_0)^2}{2\\sigma^2}\\right) $$\n",
    "\n",
    "# @markdown Where:\n",
    "# @markdown - $A$ is the amplitude (brightness) of the point source.\n",
    "# @markdown - $x_0$, $y_0$ are the coordinates of the center of the PSF.\n",
    "# @markdown - σ controls how much the light spreads out from the center.\n",
    "\n",
    "# @markdown Use $A = 1.0$, center the PSF at (25, 25) and use $\\sigma = 3$.\n",
    "\n",
    "# @markdown This part of the problem is very similar to problem #1 in this homework assignment.\n",
    "\n",
    "# Your code here"
   ]
  },
  {
   "cell_type": "code",
   "execution_count": 9,
   "metadata": {
    "cellView": "form",
    "executionInfo": {
     "elapsed": 237,
     "status": "ok",
     "timestamp": 1725564392993,
     "user": {
      "displayName": "Brianna Lynn Peck",
      "userId": "00253851097760241708"
     },
     "user_tz": 420
    },
    "id": "4PJl5MIyiRxs"
   },
   "outputs": [],
   "source": [
    "# @title Visualize the Transition:\n",
    "# @markdown Create two plots (horizontal subplots):\n",
    "\n",
    "# @markdown The first plot should display the original point source (a single bright pixel).\n",
    "# @markdown The second plot should display the resulting point spread function (PSF), showing how the light spreads out from the point source.\n",
    "\n",
    "# @markdown All you should be doing at this point is just taking your plots from step 1 and step 2 and turning them into subplots.\n",
    "\n",
    "# Your code here"
   ]
  },
  {
   "cell_type": "code",
   "execution_count": null,
   "metadata": {
    "cellView": "form",
    "id": "Zfi94LJ8j7jU"
   },
   "outputs": [],
   "source": [
    "# @title Bonus (just for fun):\n",
    "# @markdown Try changing the value of $\\sigma$ How does this affect the spread of light in the PSF?"
   ]
  }
 ],
 "metadata": {
  "colab": {
   "authorship_tag": "ABX9TyP7ry95EqdNURcTn5q0m2sZ",
   "provenance": [
    {
     "file_id": "11eD7ydmp1u-uiuA0mLaa8DbkhKpRSoy2",
     "timestamp": 1725564130873
    }
   ]
  },
  "kernelspec": {
   "display_name": "Python [conda env:base] *",
   "language": "python",
   "name": "conda-base-py"
  },
  "language_info": {
   "codemirror_mode": {
    "name": "ipython",
    "version": 3
   },
   "file_extension": ".py",
   "mimetype": "text/x-python",
   "name": "python",
   "nbconvert_exporter": "python",
   "pygments_lexer": "ipython3",
   "version": "3.12.7"
  }
 },
 "nbformat": 4,
 "nbformat_minor": 4
}
